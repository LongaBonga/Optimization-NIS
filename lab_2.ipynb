{
 "cells": [
  {
   "cell_type": "markdown",
   "metadata": {},
   "source": [
    "# Функция и её градиент\n",
    "\n"
   ]
  },
  {
   "cell_type": "markdown",
   "metadata": {},
   "source": [
    "$$ f(x,y)=3x^2+13y^2, c=9 $$"
   ]
  },
  {
   "cell_type": "markdown",
   "metadata": {},
   "source": [
    "$$ \\frac{df}{dx} = 6x $$\n",
    "\n"
   ]
  },
  {
   "cell_type": "markdown",
   "metadata": {},
   "source": [
    "$$ \\frac{df}{dy} = 26y $$"
   ]
  },
  {
   "cell_type": "markdown",
   "metadata": {},
   "source": [
    "$$ ∇f = (6x, 26y)^{T} $$"
   ]
  },
  {
   "cell_type": "code",
   "execution_count": 150,
   "metadata": {},
   "outputs": [],
   "source": [
    "def func(x, y):\n",
    "    return 3 * x**2 + 13 * y**2"
   ]
  },
  {
   "cell_type": "code",
   "execution_count": 151,
   "metadata": {},
   "outputs": [],
   "source": [
    "def derivative_func(x, y):\n",
    "    return (6 * x, 26 * y)\n",
    "    "
   ]
  },
  {
   "cell_type": "markdown",
   "metadata": {},
   "source": [
    "#### получение y по x\n",
    "$$y = \\sqrt{\\frac{9-3x^2}{13}}$$\n",
    "\n",
    "берём только положительные "
   ]
  },
  {
   "cell_type": "code",
   "execution_count": 152,
   "metadata": {},
   "outputs": [],
   "source": [
    "def getYbyX(x):\n",
    "    return ((9 - 3 * x**2)/13) ** 0.5"
   ]
  },
  {
   "cell_type": "markdown",
   "metadata": {},
   "source": [
    "# Теперь разберёмся с коффициентом"
   ]
  },
  {
   "cell_type": "markdown",
   "metadata": {},
   "source": [
    "$$x_{new} = x - t \\frac{df}{dx}(x)$$\n",
    "$$y_{new} = y - t \\frac{df}{dy}(y)$$\n",
    " \n",
    "\n"
   ]
  },
  {
   "cell_type": "markdown",
   "metadata": {},
   "source": [
    "#### подставим эти значение в начальную формулу\n",
    "$$ 3x^2+13y^2 = 9 $$\n"
   ]
  },
  {
   "cell_type": "markdown",
   "metadata": {},
   "source": [
    "$$ 3(x - t * \\frac{df}{dx}(x))^2 + 13(y - t * \\frac{df}{dy}(y))^2 = 9$$"
   ]
  },
  {
   "cell_type": "markdown",
   "metadata": {},
   "source": [
    "###### преобразуем выражение\n",
    "дальше $$x_0 = \\frac{df}{dx}(x), y_0 = \\frac{df}{dy}(y)$$\n",
    "\n",
    "$$(3x_0^2 + 13y_0^2)t^2 - (6xx_0 + 26yy_0)t + 3x^2 + 13y^2 - 9 = 0$$\n",
    "\n",
    "функция порабола, ветвями вверх. Найдём её экстремум\n",
    "\n",
    "$$t = \\frac{-b}{2a} = -\\frac{-(6xx_0 + 26yy_0)}{2(3x_0^2 + 13y_0^2)}$$"
   ]
  },
  {
   "cell_type": "code",
   "execution_count": 153,
   "metadata": {},
   "outputs": [],
   "source": [
    "def get_cof(x, y):\n",
    "    x0, y0 = derivative_func(x, y)\n",
    "    return (6*x * x0 + 26*y *y0)/(2 * (3*x0**2 + 13 * y0**2))"
   ]
  },
  {
   "cell_type": "markdown",
   "metadata": {},
   "source": [
    "# Градиентный спуск"
   ]
  },
  {
   "cell_type": "code",
   "execution_count": 154,
   "metadata": {},
   "outputs": [],
   "source": [
    "def GD(x, y):\n",
    "    all_cof = []\n",
    "    all_points = []\n",
    "    while (func(x, y) > 0.003):\n",
    "        x_0, y_0 = derivative_func(x, y)\n",
    "        t = get_cof(x, y)\n",
    "        x -= t * x_0\n",
    "        y -= t * y_0\n",
    "        all_cof.append(t)\n",
    "        all_points.append((x, y))\n",
    "    return (all_cof, all_points)\n",
    "        "
   ]
  },
  {
   "cell_type": "markdown",
   "metadata": {},
   "source": [
    "# Задания "
   ]
  },
  {
   "cell_type": "markdown",
   "metadata": {},
   "source": [
    "### Задание 1"
   ]
  },
  {
   "cell_type": "code",
   "execution_count": 155,
   "metadata": {},
   "outputs": [],
   "source": [
    "x = -1  #   -√3 < x < √3\n",
    "y = getYbyX(x)\n",
    "cof, points = GD(x, y)"
   ]
  },
  {
   "cell_type": "code",
   "execution_count": 156,
   "metadata": {},
   "outputs": [
    {
     "name": "stdout",
     "output_type": "stream",
     "text": [
      "start point:(-1, 0.6794)\n",
      "t = 0.0418 point: -0.7493 -0.0587\n",
      "t = 0.1239 point: -0.1921 0.1305\n",
      "t = 0.0418 point: -0.144 -0.0113\n",
      "t = 0.1239 point: -0.0369 0.0251\n",
      "t = 0.0418 point: -0.0277 -0.0022\n"
     ]
    }
   ],
   "source": [
    "print('start point:{}'.format((round(x, 4), round(y, 4))))\n",
    "for i in range(len(cof)):\n",
    "    print('t = {} point: {} {}'.format(round(cof[i], 4), round(points[i][0], 4), round(points[i][1], 4)))"
   ]
  },
  {
   "cell_type": "markdown",
   "metadata": {},
   "source": [
    "### Задание 2.1"
   ]
  },
  {
   "cell_type": "code",
   "execution_count": 157,
   "metadata": {},
   "outputs": [],
   "source": [
    "def GD_2(x, y):\n",
    "    for i in range(100):\n",
    "        x_0, y_0 = derivative_func(x, y)\n",
    "        \n",
    "        if(2 * (3*x_0**2 + 13 * y_0**2) <= 7.506e-320):\n",
    "            return (x, y)\n",
    "        t = get_cof(x, y)\n",
    "        x -= t * x_0\n",
    "        y -= t * y_0\n",
    "\n",
    "    return (x, y)"
   ]
  },
  {
   "cell_type": "code",
   "execution_count": 158,
   "metadata": {},
   "outputs": [],
   "source": [
    "import random\n",
    "import numpy as np"
   ]
  },
  {
   "cell_type": "code",
   "execution_count": 159,
   "metadata": {},
   "outputs": [
    {
     "name": "stdout",
     "output_type": "stream",
     "text": [
      "mean score:1.7183017379932135e-22 8.851671073139749e-23\n"
     ]
    }
   ],
   "source": [
    "min_x = []\n",
    "min_y = []\n",
    "for i in range(100):\n",
    "    x = random.uniform(-3 ** 0.5, 3 ** 0.5)\n",
    "    y = getYbyX(x)\n",
    "    x_min, y_min = GD_2(x, y)\n",
    "    min_x.append(x_min)\n",
    "    min_y.append(y_min)\n",
    "    \n",
    "print('mean score:{} {}'.format(np.mean(min_x), np.mean(min_y)))"
   ]
  },
  {
   "cell_type": "markdown",
   "metadata": {},
   "source": [
    "### Задание 2.2"
   ]
  },
  {
   "cell_type": "code",
   "execution_count": 160,
   "metadata": {},
   "outputs": [
    {
     "name": "stdout",
     "output_type": "stream",
     "text": [
      "mean score:4.075576637127983e-68 6.556875245349141e-68\n"
     ]
    }
   ],
   "source": [
    "min_x = []\n",
    "min_y = []\n",
    "for i in range(100):\n",
    "    x = random.uniform(-0.5, 0.5)\n",
    "    y = getYbyX(x)\n",
    "    x_min, y_min = GD_2(x, y)\n",
    "    min_x.append(x_min)\n",
    "    min_y.append(y_min)\n",
    "    \n",
    "print('mean score:{} {}'.format(np.mean(min_x), np.mean(min_y)))"
   ]
  },
  {
   "cell_type": "markdown",
   "metadata": {},
   "source": [
    "### Задание 2.3"
   ]
  },
  {
   "cell_type": "code",
   "execution_count": 161,
   "metadata": {},
   "outputs": [
    {
     "name": "stdout",
     "output_type": "stream",
     "text": [
      "mean score:-1.1792071790905085e-21 2.7655830986506386e-22\n"
     ]
    }
   ],
   "source": [
    "min_x = []\n",
    "min_y = []\n",
    "for i in range(100):\n",
    "    x = random.uniform(- 3 ** 0.5, -3 ** 0.5  + 0.5)\n",
    "    y = getYbyX(x)\n",
    "    x_min, y_min = GD_2(x, y)\n",
    "    min_x.append(x_min)\n",
    "    min_y.append(y_min)\n",
    "    \n",
    "print('mean score:{} {}'.format(np.mean(min_x), np.mean(min_y)))"
   ]
  },
  {
   "cell_type": "markdown",
   "metadata": {},
   "source": [
    "# Вывод\n",
    "\n",
    "#### как можно заменить самая высокая средняя точность у точек, лежащих как можно ближе к оси y\n",
    "#### дальше идёт средняя точность по всему эллипсу, а потом уже с его краёв \n"
   ]
  }
 ],
 "metadata": {
  "kernelspec": {
   "display_name": "Python 3",
   "language": "python",
   "name": "python3"
  },
  "language_info": {
   "codemirror_mode": {
    "name": "ipython",
    "version": 3
   },
   "file_extension": ".py",
   "mimetype": "text/x-python",
   "name": "python",
   "nbconvert_exporter": "python",
   "pygments_lexer": "ipython3",
   "version": "3.6.5"
  }
 },
 "nbformat": 4,
 "nbformat_minor": 2
}
