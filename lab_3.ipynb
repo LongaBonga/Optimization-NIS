{
 "cells": [
  {
   "cell_type": "markdown",
   "metadata": {},
   "source": [
    "# Функция и постоянный градиент"
   ]
  },
  {
   "cell_type": "markdown",
   "metadata": {},
   "source": [
    "$$ f(x,y)=3x^2+13y^2, c=9 $$"
   ]
  },
  {
   "cell_type": "markdown",
   "metadata": {},
   "source": [
    "$$ \\frac{df}{dx} = 6x $$\n",
    "\n"
   ]
  },
  {
   "cell_type": "markdown",
   "metadata": {},
   "source": [
    "$$ \\frac{df}{dy} = 26y $$"
   ]
  },
  {
   "cell_type": "markdown",
   "metadata": {},
   "source": [
    "$$ ∇f = (6x, 26y)^{T} $$"
   ]
  },
  {
   "cell_type": "code",
   "execution_count": 1,
   "metadata": {},
   "outputs": [],
   "source": [
    "def func(x, y):\n",
    "    return 3 * x**2 + 13 * y**2"
   ]
  },
  {
   "cell_type": "code",
   "execution_count": 2,
   "metadata": {},
   "outputs": [],
   "source": [
    "def derivative_func(x, y):\n",
    "    return (6 * x, 26 * y)\n",
    "    "
   ]
  },
  {
   "cell_type": "code",
   "execution_count": 3,
   "metadata": {},
   "outputs": [],
   "source": [
    "def nablaLength(x, y):\n",
    "    x_0, y_0 = derivative_func(x, y)\n",
    "    return (x_0 ** 2 + y_0 ** 2) ** 0.5"
   ]
  },
  {
   "cell_type": "markdown",
   "metadata": {},
   "source": [
    "#### получение y по x\n",
    "$$y = \\sqrt{\\frac{9-3x^2}{13}}$$\n",
    "\n",
    "берём только положительные "
   ]
  },
  {
   "cell_type": "code",
   "execution_count": 4,
   "metadata": {},
   "outputs": [],
   "source": [
    "def getYbyX(x):\n",
    "    return ((9 - 3 * x**2)/13) ** 0.5"
   ]
  },
  {
   "cell_type": "markdown",
   "metadata": {},
   "source": [
    "# Теперь разберёмся с коффициентом\n",
    "\n",
    "$$x_{new} = x - t \\frac{df}{dx}(x)$$\n",
    "\n",
    "$$y_{new} = y - t \\frac{df}{dy}(y)$$\n",
    " \n",
    "\n",
    "\n",
    "\n",
    " $$L = max(f'''(x), f'''(y))= max(6, 26) = 26$$\n",
    " \n",
    " $$t =\\frac{1}{L} = \\frac{1} {26}$$\n",
    "\n"
   ]
  },
  {
   "cell_type": "markdown",
   "metadata": {},
   "source": [
    "### фомула для предсказания колличества шагов\n",
    "\n",
    "$$  N = \\frac{f(x, y) - 0}{ε^2} * 2 * L  $$  \n",
    "\n",
    "$$ N > 0 $$ "
   ]
  },
  {
   "cell_type": "code",
   "execution_count": 5,
   "metadata": {},
   "outputs": [],
   "source": [
    "def predict_n(x, y):\n",
    "    L = 26\n",
    "    return abs(func(x, y)/(0.01 ** 2) * 2 * L)"
   ]
  },
  {
   "cell_type": "markdown",
   "metadata": {},
   "source": [
    "# Градиентный спуск"
   ]
  },
  {
   "cell_type": "code",
   "execution_count": 6,
   "metadata": {},
   "outputs": [],
   "source": [
    "def GD(x, y):\n",
    "    cnt = 0\n",
    "    t = 1/26\n",
    "    while (nablaLength(x, y) > 0.01):\n",
    "        x_0, y_0 = derivative_func(x, y)\n",
    "        x -= t * x_0\n",
    "        y -= t * y_0\n",
    "        cnt += 1\n",
    "    return cnt\n",
    "        "
   ]
  },
  {
   "cell_type": "markdown",
   "metadata": {},
   "source": [
    "# Задания "
   ]
  },
  {
   "cell_type": "code",
   "execution_count": 16,
   "metadata": {},
   "outputs": [],
   "source": [
    "import random\n",
    "import numpy as np\n",
    "import math"
   ]
  },
  {
   "cell_type": "markdown",
   "metadata": {},
   "source": [
    "### Задание 1.1"
   ]
  },
  {
   "cell_type": "code",
   "execution_count": 23,
   "metadata": {},
   "outputs": [
    {
     "name": "stdout",
     "output_type": "stream",
     "text": [
      "n_predict: 4680000 n_real: 23\n"
     ]
    }
   ],
   "source": [
    "n_max = []\n",
    "n_real = []\n",
    "for i in range(100):\n",
    "    x = random.uniform(-3 ** 0.5, 3 ** 0.5) # -√3 ≤ x ≤ √3\n",
    "    y = getYbyX(x)\n",
    "    n_real.append(GD(x, y))\n",
    "    n_max.append(predict_n(x, y))\n",
    "    \n",
    "#     print(x, y, func(x, y), GD(x, y), predict_n(x, y))\n",
    "    \n",
    "print('n_predict: {} n_real: {}'.format(int(np.mean(n_max)), int(np.mean(n_real))))"
   ]
  },
  {
   "cell_type": "markdown",
   "metadata": {},
   "source": [
    "### Задание 1.2"
   ]
  },
  {
   "cell_type": "code",
   "execution_count": 22,
   "metadata": {},
   "outputs": [
    {
     "name": "stdout",
     "output_type": "stream",
     "text": [
      "n_predict: 4680000 n_real: 18\n"
     ]
    }
   ],
   "source": [
    "n_max = []\n",
    "n_real = []\n",
    "for i in range(100):\n",
    "    x = random.uniform(-0.5, 0.5) # -0.5 ≤ x ≤ 0.5\n",
    "    y = getYbyX(x)\n",
    "    n_real.append(GD(x, y))\n",
    "    n_max.append(predict_n(x, y))\n",
    "    \n",
    "#     print(x, y, func(x, y), GD(x, y), predict_n(x, y))\n",
    "    \n",
    "print('n_predict: {} n_real: {}'.format(int(np.mean(n_max)), int(np.mean(n_real))))"
   ]
  },
  {
   "cell_type": "markdown",
   "metadata": {},
   "source": [
    "### Задание 1.3"
   ]
  },
  {
   "cell_type": "code",
   "execution_count": 21,
   "metadata": {},
   "outputs": [
    {
     "name": "stdout",
     "output_type": "stream",
     "text": [
      "n_predict: 4680000 n_real: 26\n"
     ]
    }
   ],
   "source": [
    "n_max = []\n",
    "n_real = []\n",
    "for i in range(100):\n",
    "    x = random.uniform(- 3 ** 0.5, -3 ** 0.5  + 0.5) # -√3 ≤ x ≤ -√3 + 0.5\n",
    "    y = getYbyX(x)\n",
    "    n_real.append(GD(x, y))\n",
    "    n_max.append(predict_n(x, y))\n",
    "    \n",
    "#     print(x, y, func(x, y), GD(x, y), predict_n(x, y))\n",
    "    \n",
    "print('n_predict: {} n_real: {}'.format(int(np.mean(n_max)), int(np.mean(n_real))))"
   ]
  }
 ],
 "metadata": {
  "kernelspec": {
   "display_name": "Python 3",
   "language": "python",
   "name": "python3"
  },
  "language_info": {
   "codemirror_mode": {
    "name": "ipython",
    "version": 3
   },
   "file_extension": ".py",
   "mimetype": "text/x-python",
   "name": "python",
   "nbconvert_exporter": "python",
   "pygments_lexer": "ipython3",
   "version": "3.6.5"
  }
 },
 "nbformat": 4,
 "nbformat_minor": 2
}
