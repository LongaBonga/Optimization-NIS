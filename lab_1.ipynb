{
 "cells": [
  {
   "cell_type": "markdown",
   "metadata": {},
   "source": [
    "Добряев\tИван\tАлександрович\tf(x) = sin(x), [5pi/4, 2pi], 0.1"
   ]
  },
  {
   "cell_type": "code",
   "execution_count": 95,
   "metadata": {},
   "outputs": [],
   "source": [
    "import matplotlib.pyplot as plt\n",
    "import numpy as np\n",
    "import math"
   ]
  },
  {
   "cell_type": "code",
   "execution_count": 96,
   "metadata": {},
   "outputs": [
    {
     "data": {
      "image/png": "[encoded data removed]",
      "text/plain": [
       "<Figure size 432x288 with 1 Axes>"
      ]
     },
     "metadata": {},
     "output_type": "display_data"
    }
   ],
   "source": [
    "\n",
    "x = np.linspace(5/4 * np.pi, 2 * np.pi,200)\n",
    "\n",
    "y = np.sin(x)\n",
    "\n",
    "fig = plt.figure()\n",
    "ax = fig.add_subplot(1, 1, 1)\n",
    "ax.spines['left'].set_position('center')\n",
    "ax.spines['bottom'].set_position('center')\n",
    "ax.spines['right'].set_color('none')\n",
    "ax.spines['top'].set_color('none')\n",
    "ax.xaxis.set_ticks_position('bottom')\n",
    "ax.yaxis.set_ticks_position('left')\n",
    "\n",
    "# plot the function\n",
    "plt.plot(x,y, 'b')\n",
    "\n",
    "# show the plot\n",
    "plt.show()"
   ]
  },
  {
   "cell_type": "code",
   "execution_count": 91,
   "metadata": {},
   "outputs": [],
   "source": [
    "def func(x):\n",
    "    return math.sin(x)"
   ]
  },
  {
   "cell_type": "code",
   "execution_count": 92,
   "metadata": {},
   "outputs": [],
   "source": [
    "def  div(a, b): # function return new segment \n",
    "    c2 = (a + b) / 2\n",
    "    c1 = (a + c2) / 2\n",
    "    c3 = (b + c2) / 2\n",
    "    \n",
    "    fc2 = func(c2)\n",
    "    fc1 = func(c1)\n",
    "    fc3 = func(c3)\n",
    "    \n",
    "    if (fc1 > fc2 > fc3):\n",
    "        return (c2, b)\n",
    "    \n",
    "    if (fc1 < fc2 < fc3):\n",
    "        return (a, c2)\n",
    "    \n",
    "    if (fc1 > fc2 and fc2 < fc3):\n",
    "        return (c1, c2)"
   ]
  },
  {
   "cell_type": "code",
   "execution_count": 93,
   "metadata": {},
   "outputs": [],
   "source": [
    "def dihotomia(a, b, eps): \n",
    "    epoch = 0\n",
    "    while (b - a) > eps:\n",
    "        a, b = div(a, b)\n",
    "        print('epoch №', epoch, a, b)\n",
    "        epoch += 1\n",
    "    return (b, b - a < eps, epoch)"
   ]
  },
  {
   "cell_type": "code",
   "execution_count": 94,
   "metadata": {},
   "outputs": [
    {
     "name": "stdout",
     "output_type": "stream",
     "text": [
      "epoch № 0 3.9269908169872414 5.105088062083414\n",
      "epoch № 1 4.516039439535328 5.105088062083414\n",
      "epoch № 2 4.516039439535328 4.810563750809371\n",
      "epoch № 3 4.663301595172349 4.810563750809371\n",
      "epoch № 4 4.663301595172349 4.736932672990861\n"
     ]
    },
    {
     "data": {
      "text/plain": [
       "(4.736932672990861, True, 5)"
      ]
     },
     "execution_count": 94,
     "metadata": {},
     "output_type": "execute_result"
    }
   ],
   "source": [
    "dihotomia(5/4 * np.pi, 2 * np.pi, 0.1)\n",
    "    "
   ]
  }
 ],
 "metadata": {
  "kernelspec": {
   "display_name": "Python 3",
   "language": "python",
   "name": "python3"
  },
  "language_info": {
   "codemirror_mode": {
    "name": "ipython",
    "version": 3
   },
   "file_extension": ".py",
   "mimetype": "text/x-python",
   "name": "python",
   "nbconvert_exporter": "python",
   "pygments_lexer": "ipython3",
   "version": "3.6.5"
  }
 },
 "nbformat": 4,
 "nbformat_minor": 2
}
